{
 "cells": [
  {
   "cell_type": "code",
   "execution_count": null,
   "metadata": {},
   "outputs": [],
   "source": [
    "# imageCapture.py\n",
    "import cv2\n",
    "import imutils\n",
    "import time\n",
    "from imutils.video import VideoStream"
   ]
  },
  {
   "cell_type": "code",
   "execution_count": null,
   "metadata": {},
   "outputs": [],
   "source": [
    "width = 640\n",
    "height = 480\n",
    "print(\"Camera Sensor Warming Up in 2 seconds!\")\n",
    "New_VideoStream1 = VideoStream(src=1,resolution=(640,480),usePiCamera=False,framerate=60).start()\n",
    "New_VideoStream2 = VideoStream(src=0,resolution=(1280,720),usePiCamera=False,framerate=60).start()\n",
    "time.sleep(2.0)\n",
    "pic_idx = 0\n",
    "print(\"type c to capture picture and q to quit!\")\n",
    "while True:\n",
    "    New_frame1 = New_VideoStream1.read()\n",
    "    New_frame2 = New_VideoStream2.read()\n",
    "    key = cv2.waitKey(1) & 0xFF\n",
    "    # quit \n",
    "    if key == ord('q'):\n",
    "        break\n",
    "    # capture frame \n",
    "    if key == ord('c'):\n",
    "        New_frame_left = New_frame1\n",
    "        New_frame_right = New_frame2\n",
    "        New_frame_right = cv2.resize(New_frame_right,(width,height))#resize\n",
    "        cv2.imwrite(\"./left/left{}.jpg\".format(pic_idx),New_frame_left)\n",
    "        cv2.imwrite(\"./right/right{}.jpg\".format(pic_idx),New_frame_right)\n",
    "        pic_idx +=1\n",
    "        print(\"Please capture the {}th image!\".format(pic_idx))\n",
    "    cv2.imshow(\"frame1(L)\",New_frame1)\n",
    "    cv2.imshow(\"frame2(R)\",New_frame2)\n",
    "\n",
    "cv2.destroyAllWindows()\n",
    "New_VideoStream1.stop()\n",
    "New_VideoStream2.stop()\n"
   ]
  }
 ],
 "metadata": {
  "kernelspec": {
   "display_name": "Python 3",
   "language": "python",
   "name": "python3"
  },
  "language_info": {
   "codemirror_mode": {
    "name": "ipython",
    "version": 3
   },
   "file_extension": ".py",
   "mimetype": "text/x-python",
   "name": "python",
   "nbconvert_exporter": "python",
   "pygments_lexer": "ipython3",
   "version": "3.10.4"
  },
  "orig_nbformat": 4
 },
 "nbformat": 4,
 "nbformat_minor": 2
}
